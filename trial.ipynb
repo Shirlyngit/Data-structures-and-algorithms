{
 "cells": [
  {
   "cell_type": "code",
   "execution_count": 15,
   "id": "0515e677",
   "metadata": {},
   "outputs": [],
   "source": [
    "#Removing duplicates from sorted arrays: nums as input\n",
    "class Solution1():\n",
    "    def unique_elements(self, nums: List[int]) -> int:\n",
    "        if not nums:\n",
    "            return 0\n",
    "        \n",
    "        i = 0\n",
    "        for j in range(1, len(nums)):\n",
    "            if nums[j] != nums[i]:\n",
    "                i += 1\n",
    "                nums[i] = nums[j]\n",
    "\n",
    "        return i + 1 \n",
    " "
   ]
  },
  {
   "cell_type": "code",
   "execution_count": null,
   "id": "a179a4b1",
   "metadata": {},
   "outputs": [],
   "source": [
    "sol = Solution()\n",
    "\n"
   ]
  },
  {
   "cell_type": "code",
   "execution_count": 30,
   "id": "9d9bd63f",
   "metadata": {},
   "outputs": [],
   "source": [
    "#Removing elements from array:\n",
    "\n",
    "class Solution2():\n",
    "    def remove_value_k(self, nums: List[int], val: int) -> int:\n",
    "        \n",
    "        if not nums:\n",
    "            return 0\n",
    "        \n",
    "        i = 0\n",
    "        for j in range(len(nums)):\n",
    "            if nums[j] != val:\n",
    "                i += 1\n",
    "                nums[i + 1] = nums[j]\n",
    "        return i"
   ]
  },
  {
   "cell_type": "code",
   "execution_count": 31,
   "id": "8bb9f992",
   "metadata": {},
   "outputs": [],
   "source": [
    "nums = [1,1,2,3,4]\n",
    "val = 1\n",
    "\n",
    "sol = Solution2()"
   ]
  },
  {
   "cell_type": "code",
   "execution_count": 32,
   "id": "586312df",
   "metadata": {},
   "outputs": [
    {
     "data": {
      "text/plain": [
       "3"
      ]
     },
     "execution_count": 32,
     "metadata": {},
     "output_type": "execute_result"
    }
   ],
   "source": [
    "testerr = sol.remove_value_k(nums, val)\n",
    "testerr"
   ]
  },
  {
   "cell_type": "code",
   "execution_count": 33,
   "id": "34dc8771",
   "metadata": {},
   "outputs": [
    {
     "data": {
      "text/plain": [
       "[1, 1, 2]"
      ]
     },
     "execution_count": 33,
     "metadata": {},
     "output_type": "execute_result"
    }
   ],
   "source": [
    "nums[: testerr]"
   ]
  },
  {
   "cell_type": "code",
   "execution_count": 34,
   "id": "4f17ab12",
   "metadata": {},
   "outputs": [],
   "source": [
    "nums2 = [0,1,2,2,3,0,4,2]\n",
    "val2 = 2"
   ]
  },
  {
   "cell_type": "code",
   "execution_count": 24,
   "id": "33c4f60b",
   "metadata": {},
   "outputs": [
    {
     "data": {
      "text/plain": [
       "5"
      ]
     },
     "execution_count": 24,
     "metadata": {},
     "output_type": "execute_result"
    }
   ],
   "source": [
    "testerrr = sol.remove_value_k(nums2, val2)\n",
    "\n",
    "testerrr"
   ]
  },
  {
   "cell_type": "code",
   "execution_count": 35,
   "id": "ac27c824",
   "metadata": {},
   "outputs": [
    {
     "data": {
      "text/plain": [
       "[1, 1, 2, 3, 4]"
      ]
     },
     "execution_count": 35,
     "metadata": {},
     "output_type": "execute_result"
    }
   ],
   "source": [
    "nums[: testerrr]"
   ]
  },
  {
   "cell_type": "code",
   "execution_count": 3,
   "id": "79616a03",
   "metadata": {},
   "outputs": [],
   "source": [
    "from typing import List"
   ]
  },
  {
   "cell_type": "code",
   "execution_count": 11,
   "id": "13abf0d7",
   "metadata": {},
   "outputs": [],
   "source": [
    "#Removing duplicates from sorted arrays in place:\n",
    "\n",
    "class Solution:\n",
    "    def remove_duplicates(self, nums: List[int]) -> int:\n",
    "        if not nums:\n",
    "            return 0\n",
    "        \n",
    "        i = 0\n",
    "        for j in range(1, len(nums)):\n",
    "            if nums[j] != nums[i]:\n",
    "                 i += 1\n",
    "                 nums[i] = nums[j]\n",
    "        return i + 1 "
   ]
  },
  {
   "cell_type": "code",
   "execution_count": 12,
   "id": "fa2402f7",
   "metadata": {},
   "outputs": [
    {
     "data": {
      "text/plain": [
       "4"
      ]
     },
     "execution_count": 12,
     "metadata": {},
     "output_type": "execute_result"
    }
   ],
   "source": [
    "sol = Solution()\n",
    "nums = [1,1,2,3,4]\n",
    "\n",
    "testing = sol.remove_duplicates(nums)\n",
    "testing"
   ]
  },
  {
   "cell_type": "code",
   "execution_count": 13,
   "id": "700d6465",
   "metadata": {},
   "outputs": [
    {
     "data": {
      "text/plain": [
       "[1, 2, 3, 4]"
      ]
     },
     "execution_count": 13,
     "metadata": {},
     "output_type": "execute_result"
    }
   ],
   "source": [
    "nums[:testing]"
   ]
  },
  {
   "cell_type": "code",
   "execution_count": 8,
   "metadata": {},
   "outputs": [],
   "source": [
    "nums = [2,10,10,30,30,30]"
   ]
  },
  {
   "cell_type": "code",
   "execution_count": 10,
   "metadata": {},
   "outputs": [
    {
     "data": {
      "text/plain": [
       "[2, 10, 30]"
      ]
     },
     "execution_count": 10,
     "metadata": {},
     "output_type": "execute_result"
    }
   ],
   "source": [
    "testing2 = sol.remove_duplicates(nums)\n",
    "testing2\n",
    "\n",
    "nums[:testing2]"
   ]
  },
  {
   "cell_type": "code",
   "execution_count": null,
   "id": "a28d5ae7",
   "metadata": {},
   "outputs": [],
   "source": [
    "Input: nums = [1,1,2,3,4], val = 1\n",
    "\n",
    "Output: [2,3,4]"
   ]
  },
  {
   "cell_type": "code",
   "execution_count": null,
   "metadata": {},
   "outputs": [],
   "source": [
    "Input: nums = [0,1,2,2,3,0,4,2], val = 2\n",
    "\n",
    "Output: [0,1,3,0,4]"
   ]
  },
  {
   "cell_type": "code",
   "execution_count": 14,
   "id": "4c73cdca",
   "metadata": {},
   "outputs": [],
   "source": [
    "#Removing described value from an array in place:\n",
    "\n",
    "class Solution:\n",
    "    def remove_val(self, nums: List[int], val: int) -> int:\n",
    "        if not nums:\n",
    "            return 0\n",
    "        \n",
    "        i = 0 \n",
    "        for j in range(len(nums)):\n",
    "            if nums[j] != val:\n",
    "                nums[i] = nums[j]\n",
    "                i += 1 \n",
    "        return i\n"
   ]
  },
  {
   "cell_type": "code",
   "execution_count": 15,
   "id": "eb1019ed",
   "metadata": {},
   "outputs": [],
   "source": [
    "sol = Solution()\n",
    "nums = [1,1,2,3,4]\n",
    "val = 1"
   ]
  },
  {
   "cell_type": "code",
   "execution_count": 17,
   "id": "4ef28b9f",
   "metadata": {},
   "outputs": [
    {
     "data": {
      "text/plain": [
       "3"
      ]
     },
     "execution_count": 17,
     "metadata": {},
     "output_type": "execute_result"
    }
   ],
   "source": [
    "tt1 = sol.remove_val(nums, val)\n",
    "tt1"
   ]
  },
  {
   "cell_type": "code",
   "execution_count": 18,
   "id": "3ae342cf",
   "metadata": {},
   "outputs": [
    {
     "data": {
      "text/plain": [
       "[2, 3, 4]"
      ]
     },
     "execution_count": 18,
     "metadata": {},
     "output_type": "execute_result"
    }
   ],
   "source": [
    "nums[:tt1]"
   ]
  },
  {
   "cell_type": "code",
   "execution_count": 20,
   "id": "e0c88536",
   "metadata": {},
   "outputs": [],
   "source": [
    "nums2 = [0,1,2,2,3,0,4,2]\n",
    "val2 = 2\n",
    "tt2 = sol.remove_val(nums2, val2)"
   ]
  },
  {
   "cell_type": "code",
   "execution_count": 22,
   "id": "85a4fce7",
   "metadata": {},
   "outputs": [
    {
     "data": {
      "text/plain": [
       "[0, 1, 3, 0, 4]"
      ]
     },
     "execution_count": 22,
     "metadata": {},
     "output_type": "execute_result"
    }
   ],
   "source": [
    "nums2[:tt2]"
   ]
  },
  {
   "cell_type": "code",
   "execution_count": null,
   "id": "975ab48d",
   "metadata": {},
   "outputs": [],
   "source": [
    "#3 - Concatenation of an array\n",
    "\n",
    "class Solution:\n",
    "    def getConcatenation(self, nums: List[int]) -> List[int]:\n",
    "        #Guard clause to prevent unecessary computing and errors\n",
    "        if not nums:\n",
    "            return []\n",
    "        \n",
    "        ans = nums + nums\n",
    "        return ans"
   ]
  },
  {
   "cell_type": "code",
   "execution_count": 28,
   "id": "1cd0ca20",
   "metadata": {},
   "outputs": [],
   "source": [
    "# Input: nums = [1,4,1,2]\n",
    "\n",
    "# Output: [1,4,1,2,1,4,1,2] \n",
    "\n",
    "nums = [1,4,1,2]  "
   ]
  },
  {
   "cell_type": "code",
   "execution_count": 30,
   "id": "20f652d9",
   "metadata": {},
   "outputs": [
    {
     "data": {
      "text/plain": [
       "[1, 4, 1, 2, 1, 4, 1, 2]"
      ]
     },
     "execution_count": 30,
     "metadata": {},
     "output_type": "execute_result"
    }
   ],
   "source": [
    "sol = Solution()\n",
    "tt3 = sol.getConcatenation(nums) \n",
    "tt3"
   ]
  },
  {
   "cell_type": "code",
   "execution_count": 31,
   "id": "c32079b0",
   "metadata": {},
   "outputs": [
    {
     "data": {
      "text/plain": [
       "[22, 21, 20, 1, 22, 21, 20, 1]"
      ]
     },
     "execution_count": 31,
     "metadata": {},
     "output_type": "execute_result"
    }
   ],
   "source": [
    "#Input: nums = [22,21,20,1]\n",
    "\n",
    "#Output: [22,21,20,1,22,21,20,1] \n",
    "\n",
    "nums = [22,21,20,1] \n",
    "tt4 = sol.getConcatenation(nums)\n",
    "tt4"
   ]
  },
  {
   "cell_type": "code",
   "execution_count": null,
   "id": "7c9d2b06",
   "metadata": {},
   "outputs": [],
   "source": [
    "#Function to investigate if is a Palindrome\n",
    "class Solution_string:\n",
    "    def if_palindrome(self, word: object) -> bool:\n",
    "        if not word:\n",
    "            return \"Wrong input\"\n",
    "        \n",
    "        for j in range(len(word)):\n",
    "            "
   ]
  }
 ],
 "metadata": {
  "kernelspec": {
   "display_name": "Python 3",
   "language": "python",
   "name": "python3"
  },
  "language_info": {
   "codemirror_mode": {
    "name": "ipython",
    "version": 3
   },
   "file_extension": ".py",
   "mimetype": "text/x-python",
   "name": "python",
   "nbconvert_exporter": "python",
   "pygments_lexer": "ipython3",
   "version": "3.12.10"
  }
 },
 "nbformat": 4,
 "nbformat_minor": 5
}
