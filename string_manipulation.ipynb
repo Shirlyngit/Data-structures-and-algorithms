{
 "cells": [
  {
   "cell_type": "code",
   "execution_count": null,
   "id": "8c8d4142",
   "metadata": {},
   "outputs": [],
   "source": [
    "text = \"Hello, World!\"\n",
    "\n",
    "print(text[0:5])      # 'Hello'  (from index 0 up to 4)\n",
    "print(text[:5])       # 'Hello'  (same as above, start defaults to 0)\n",
    "print(text[7:])       # 'World!' (from index 7 to the end)\n",
    "print(text[-6:])      # 'World!' (negative index counts from the end)\n",
    "print(text[::2])      # 'Hlo ol!' (every 2nd character)\n",
    "print(text[::-1])     # '!dlroW ,olleH' (reversed string)\n"
   ]
  },
  {
   "cell_type": "code",
   "execution_count": 13,
   "id": "8b0d6550",
   "metadata": {},
   "outputs": [
    {
     "data": {
      "text/plain": [
       "10"
      ]
     },
     "execution_count": 13,
     "metadata": {},
     "output_type": "execute_result"
    }
   ],
   "source": [
    "text = 'HelloWorld'\n",
    "# text[0:5]\n",
    "lenn = len(text)\n",
    "lenn"
   ]
  },
  {
   "cell_type": "code",
   "execution_count": null,
   "id": "f9d07289",
   "metadata": {},
   "outputs": [
    {
     "ename": "NameError",
     "evalue": "name 'count' is not defined",
     "output_type": "error",
     "traceback": [
      "\u001b[31m---------------------------------------------------------------------------\u001b[39m",
      "\u001b[31mNameError\u001b[39m                                 Traceback (most recent call last)",
      "\u001b[36mCell\u001b[39m\u001b[36m \u001b[39m\u001b[32mIn[20]\u001b[39m\u001b[32m, line 1\u001b[39m\n\u001b[32m----> \u001b[39m\u001b[32m1\u001b[39m \u001b[43mcount\u001b[49m(text, \u001b[33m'\u001b[39m\u001b[33mH\u001b[39m\u001b[33m'\u001b[39m)\n",
      "\u001b[31mNameError\u001b[39m: name 'count' is not defined"
     ]
    }
   ],
   "source": [
    "count()"
   ]
  },
  {
   "cell_type": "code",
   "execution_count": 19,
   "id": "ddf321f2",
   "metadata": {},
   "outputs": [
    {
     "name": "stdout",
     "output_type": "stream",
     "text": [
      "0 H\n",
      "1 e\n",
      "2 l\n",
      "3 l\n",
      "4 o\n",
      "5 W\n",
      "6 o\n",
      "7 r\n",
      "8 l\n",
      "9 d\n"
     ]
    }
   ],
   "source": [
    "for index, letter in enumerate(text[:lenn]):\n",
    "    print(index, letter)"
   ]
  },
  {
   "cell_type": "code",
   "execution_count": 3,
   "id": "05272811",
   "metadata": {},
   "outputs": [
    {
     "data": {
      "text/plain": [
       "'Hello'"
      ]
     },
     "execution_count": 3,
     "metadata": {},
     "output_type": "execute_result"
    }
   ],
   "source": [
    "text[:5]"
   ]
  },
  {
   "cell_type": "code",
   "execution_count": 4,
   "id": "9f52b632",
   "metadata": {},
   "outputs": [
    {
     "data": {
      "text/plain": [
       "'rld!'"
      ]
     },
     "execution_count": 4,
     "metadata": {},
     "output_type": "execute_result"
    }
   ],
   "source": [
    "text[7:]"
   ]
  },
  {
   "cell_type": "code",
   "execution_count": null,
   "id": "9c34e734",
   "metadata": {},
   "outputs": [],
   "source": [
    "class Solution:\n",
    "    def isAnagram(self, s:str, t:str) -> bool:\n",
    "        if (not s) & (not t):\n",
    "            return \"NULL\"\n",
    "        \n",
    "        freq_per_letter = {}\n",
    "        for "
   ]
  },
  {
   "cell_type": "code",
   "execution_count": 22,
   "id": "bf4db65b",
   "metadata": {},
   "outputs": [
    {
     "data": {
      "text/plain": [
       "114"
      ]
     },
     "execution_count": 22,
     "metadata": {},
     "output_type": "execute_result"
    }
   ],
   "source": [
    "ord('r')"
   ]
  },
  {
   "cell_type": "code",
   "execution_count": null,
   "id": "79f87091",
   "metadata": {},
   "outputs": [],
   "source": [
    "class Solution:\n",
    "    def isAnagram(self, s:str, t:str) -> bool:\n",
    "        if (not s) & (not t):\n",
    "            return \"NULL\"\n",
    "        \n",
    "        if len(s) == len(t):\n",
    "            return False\n",
    "        \n",
    "        return sorted(s) == sorted(t)\n",
    "    "
   ]
  }
 ],
 "metadata": {
  "kernelspec": {
   "display_name": "Python 3",
   "language": "python",
   "name": "python3"
  },
  "language_info": {
   "codemirror_mode": {
    "name": "ipython",
    "version": 3
   },
   "file_extension": ".py",
   "mimetype": "text/x-python",
   "name": "python",
   "nbconvert_exporter": "python",
   "pygments_lexer": "ipython3",
   "version": "3.12.10"
  }
 },
 "nbformat": 4,
 "nbformat_minor": 5
}
